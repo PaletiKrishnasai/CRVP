{
 "cells": [
  {
   "cell_type": "markdown",
   "metadata": {},
   "source": [
    "# Importing Libraries"
   ]
  },
  {
   "cell_type": "code",
   "execution_count": 1,
   "metadata": {},
   "outputs": [],
   "source": [
    "import numpy as np\n",
    "import pandas as pd\n",
    "import matplotlib.pyplot as plt"
   ]
  },
  {
   "cell_type": "markdown",
   "metadata": {},
   "source": [
    "# Reading dataset"
   ]
  },
  {
   "cell_type": "code",
   "execution_count": 2,
   "metadata": {},
   "outputs": [
    {
     "data": {
      "text/html": [
       "<div>\n",
       "<style scoped>\n",
       "    .dataframe tbody tr th:only-of-type {\n",
       "        vertical-align: middle;\n",
       "    }\n",
       "\n",
       "    .dataframe tbody tr th {\n",
       "        vertical-align: top;\n",
       "    }\n",
       "\n",
       "    .dataframe thead th {\n",
       "        text-align: right;\n",
       "    }\n",
       "</style>\n",
       "<table border=\"1\" class=\"dataframe\">\n",
       "  <thead>\n",
       "    <tr style=\"text-align: right;\">\n",
       "      <th></th>\n",
       "      <th>dateCrawled</th>\n",
       "      <th>name</th>\n",
       "      <th>seller</th>\n",
       "      <th>offerType</th>\n",
       "      <th>price</th>\n",
       "      <th>abtest</th>\n",
       "      <th>vehicleType</th>\n",
       "      <th>yearOfRegistration</th>\n",
       "      <th>gearbox</th>\n",
       "      <th>powerPS</th>\n",
       "      <th>model</th>\n",
       "      <th>kilometer</th>\n",
       "      <th>monthOfRegistration</th>\n",
       "      <th>fuelType</th>\n",
       "      <th>brand</th>\n",
       "      <th>notRepairedDamage</th>\n",
       "      <th>dateCreated</th>\n",
       "      <th>nrOfPictures</th>\n",
       "      <th>postalCode</th>\n",
       "      <th>lastSeen</th>\n",
       "    </tr>\n",
       "  </thead>\n",
       "  <tbody>\n",
       "    <tr>\n",
       "      <th>0</th>\n",
       "      <td>2016-03-24 11:52:17</td>\n",
       "      <td>Golf_3_1.6</td>\n",
       "      <td>privat</td>\n",
       "      <td>Angebot</td>\n",
       "      <td>480</td>\n",
       "      <td>test</td>\n",
       "      <td>NaN</td>\n",
       "      <td>1993</td>\n",
       "      <td>manuell</td>\n",
       "      <td>0</td>\n",
       "      <td>golf</td>\n",
       "      <td>150000</td>\n",
       "      <td>0</td>\n",
       "      <td>benzin</td>\n",
       "      <td>volkswagen</td>\n",
       "      <td>NaN</td>\n",
       "      <td>2016-03-24 00:00:00</td>\n",
       "      <td>0</td>\n",
       "      <td>70435</td>\n",
       "      <td>2016-04-07 03:16:57</td>\n",
       "    </tr>\n",
       "    <tr>\n",
       "      <th>1</th>\n",
       "      <td>2016-03-24 10:58:45</td>\n",
       "      <td>A5_Sportback_2.7_Tdi</td>\n",
       "      <td>privat</td>\n",
       "      <td>Angebot</td>\n",
       "      <td>18300</td>\n",
       "      <td>test</td>\n",
       "      <td>coupe</td>\n",
       "      <td>2011</td>\n",
       "      <td>manuell</td>\n",
       "      <td>190</td>\n",
       "      <td>NaN</td>\n",
       "      <td>125000</td>\n",
       "      <td>5</td>\n",
       "      <td>diesel</td>\n",
       "      <td>audi</td>\n",
       "      <td>ja</td>\n",
       "      <td>2016-03-24 00:00:00</td>\n",
       "      <td>0</td>\n",
       "      <td>66954</td>\n",
       "      <td>2016-04-07 01:46:50</td>\n",
       "    </tr>\n",
       "    <tr>\n",
       "      <th>2</th>\n",
       "      <td>2016-03-14 12:52:21</td>\n",
       "      <td>Jeep_Grand_Cherokee_\"Overland\"</td>\n",
       "      <td>privat</td>\n",
       "      <td>Angebot</td>\n",
       "      <td>9800</td>\n",
       "      <td>test</td>\n",
       "      <td>suv</td>\n",
       "      <td>2004</td>\n",
       "      <td>automatik</td>\n",
       "      <td>163</td>\n",
       "      <td>grand</td>\n",
       "      <td>125000</td>\n",
       "      <td>8</td>\n",
       "      <td>diesel</td>\n",
       "      <td>jeep</td>\n",
       "      <td>NaN</td>\n",
       "      <td>2016-03-14 00:00:00</td>\n",
       "      <td>0</td>\n",
       "      <td>90480</td>\n",
       "      <td>2016-04-05 12:47:46</td>\n",
       "    </tr>\n",
       "    <tr>\n",
       "      <th>3</th>\n",
       "      <td>2016-03-17 16:54:04</td>\n",
       "      <td>GOLF_4_1_4__3TÜRER</td>\n",
       "      <td>privat</td>\n",
       "      <td>Angebot</td>\n",
       "      <td>1500</td>\n",
       "      <td>test</td>\n",
       "      <td>kleinwagen</td>\n",
       "      <td>2001</td>\n",
       "      <td>manuell</td>\n",
       "      <td>75</td>\n",
       "      <td>golf</td>\n",
       "      <td>150000</td>\n",
       "      <td>6</td>\n",
       "      <td>benzin</td>\n",
       "      <td>volkswagen</td>\n",
       "      <td>nein</td>\n",
       "      <td>2016-03-17 00:00:00</td>\n",
       "      <td>0</td>\n",
       "      <td>91074</td>\n",
       "      <td>2016-03-17 17:40:17</td>\n",
       "    </tr>\n",
       "    <tr>\n",
       "      <th>4</th>\n",
       "      <td>2016-03-31 17:25:20</td>\n",
       "      <td>Skoda_Fabia_1.4_TDI_PD_Classic</td>\n",
       "      <td>privat</td>\n",
       "      <td>Angebot</td>\n",
       "      <td>3600</td>\n",
       "      <td>test</td>\n",
       "      <td>kleinwagen</td>\n",
       "      <td>2008</td>\n",
       "      <td>manuell</td>\n",
       "      <td>69</td>\n",
       "      <td>fabia</td>\n",
       "      <td>90000</td>\n",
       "      <td>7</td>\n",
       "      <td>diesel</td>\n",
       "      <td>skoda</td>\n",
       "      <td>nein</td>\n",
       "      <td>2016-03-31 00:00:00</td>\n",
       "      <td>0</td>\n",
       "      <td>60437</td>\n",
       "      <td>2016-04-06 10:17:21</td>\n",
       "    </tr>\n",
       "    <tr>\n",
       "      <th>...</th>\n",
       "      <td>...</td>\n",
       "      <td>...</td>\n",
       "      <td>...</td>\n",
       "      <td>...</td>\n",
       "      <td>...</td>\n",
       "      <td>...</td>\n",
       "      <td>...</td>\n",
       "      <td>...</td>\n",
       "      <td>...</td>\n",
       "      <td>...</td>\n",
       "      <td>...</td>\n",
       "      <td>...</td>\n",
       "      <td>...</td>\n",
       "      <td>...</td>\n",
       "      <td>...</td>\n",
       "      <td>...</td>\n",
       "      <td>...</td>\n",
       "      <td>...</td>\n",
       "      <td>...</td>\n",
       "      <td>...</td>\n",
       "    </tr>\n",
       "    <tr>\n",
       "      <th>371523</th>\n",
       "      <td>2016-03-14 17:48:27</td>\n",
       "      <td>Suche_t4___vito_ab_6_sitze</td>\n",
       "      <td>privat</td>\n",
       "      <td>Angebot</td>\n",
       "      <td>2200</td>\n",
       "      <td>test</td>\n",
       "      <td>NaN</td>\n",
       "      <td>2005</td>\n",
       "      <td>NaN</td>\n",
       "      <td>0</td>\n",
       "      <td>NaN</td>\n",
       "      <td>20000</td>\n",
       "      <td>1</td>\n",
       "      <td>NaN</td>\n",
       "      <td>sonstige_autos</td>\n",
       "      <td>NaN</td>\n",
       "      <td>2016-03-14 00:00:00</td>\n",
       "      <td>0</td>\n",
       "      <td>39576</td>\n",
       "      <td>2016-04-06 00:46:52</td>\n",
       "    </tr>\n",
       "    <tr>\n",
       "      <th>371524</th>\n",
       "      <td>2016-03-05 19:56:21</td>\n",
       "      <td>Smart_smart_leistungssteigerung_100ps</td>\n",
       "      <td>privat</td>\n",
       "      <td>Angebot</td>\n",
       "      <td>1199</td>\n",
       "      <td>test</td>\n",
       "      <td>cabrio</td>\n",
       "      <td>2000</td>\n",
       "      <td>automatik</td>\n",
       "      <td>101</td>\n",
       "      <td>fortwo</td>\n",
       "      <td>125000</td>\n",
       "      <td>3</td>\n",
       "      <td>benzin</td>\n",
       "      <td>smart</td>\n",
       "      <td>nein</td>\n",
       "      <td>2016-03-05 00:00:00</td>\n",
       "      <td>0</td>\n",
       "      <td>26135</td>\n",
       "      <td>2016-03-11 18:17:12</td>\n",
       "    </tr>\n",
       "    <tr>\n",
       "      <th>371525</th>\n",
       "      <td>2016-03-19 18:57:12</td>\n",
       "      <td>Volkswagen_Multivan_T4_TDI_7DC_UY2</td>\n",
       "      <td>privat</td>\n",
       "      <td>Angebot</td>\n",
       "      <td>9200</td>\n",
       "      <td>test</td>\n",
       "      <td>bus</td>\n",
       "      <td>1996</td>\n",
       "      <td>manuell</td>\n",
       "      <td>102</td>\n",
       "      <td>transporter</td>\n",
       "      <td>150000</td>\n",
       "      <td>3</td>\n",
       "      <td>diesel</td>\n",
       "      <td>volkswagen</td>\n",
       "      <td>nein</td>\n",
       "      <td>2016-03-19 00:00:00</td>\n",
       "      <td>0</td>\n",
       "      <td>87439</td>\n",
       "      <td>2016-04-07 07:15:26</td>\n",
       "    </tr>\n",
       "    <tr>\n",
       "      <th>371526</th>\n",
       "      <td>2016-03-20 19:41:08</td>\n",
       "      <td>VW_Golf_Kombi_1_9l_TDI</td>\n",
       "      <td>privat</td>\n",
       "      <td>Angebot</td>\n",
       "      <td>3400</td>\n",
       "      <td>test</td>\n",
       "      <td>kombi</td>\n",
       "      <td>2002</td>\n",
       "      <td>manuell</td>\n",
       "      <td>100</td>\n",
       "      <td>golf</td>\n",
       "      <td>150000</td>\n",
       "      <td>6</td>\n",
       "      <td>diesel</td>\n",
       "      <td>volkswagen</td>\n",
       "      <td>NaN</td>\n",
       "      <td>2016-03-20 00:00:00</td>\n",
       "      <td>0</td>\n",
       "      <td>40764</td>\n",
       "      <td>2016-03-24 12:45:21</td>\n",
       "    </tr>\n",
       "    <tr>\n",
       "      <th>371527</th>\n",
       "      <td>2016-03-07 19:39:19</td>\n",
       "      <td>BMW_M135i_vollausgestattet_NP_52.720____Euro</td>\n",
       "      <td>privat</td>\n",
       "      <td>Angebot</td>\n",
       "      <td>28990</td>\n",
       "      <td>control</td>\n",
       "      <td>limousine</td>\n",
       "      <td>2013</td>\n",
       "      <td>manuell</td>\n",
       "      <td>320</td>\n",
       "      <td>m_reihe</td>\n",
       "      <td>50000</td>\n",
       "      <td>8</td>\n",
       "      <td>benzin</td>\n",
       "      <td>bmw</td>\n",
       "      <td>nein</td>\n",
       "      <td>2016-03-07 00:00:00</td>\n",
       "      <td>0</td>\n",
       "      <td>73326</td>\n",
       "      <td>2016-03-22 03:17:10</td>\n",
       "    </tr>\n",
       "  </tbody>\n",
       "</table>\n",
       "<p>371528 rows × 20 columns</p>\n",
       "</div>"
      ],
      "text/plain": [
       "                dateCrawled                                          name  \\\n",
       "0       2016-03-24 11:52:17                                    Golf_3_1.6   \n",
       "1       2016-03-24 10:58:45                          A5_Sportback_2.7_Tdi   \n",
       "2       2016-03-14 12:52:21                Jeep_Grand_Cherokee_\"Overland\"   \n",
       "3       2016-03-17 16:54:04                            GOLF_4_1_4__3TÜRER   \n",
       "4       2016-03-31 17:25:20                Skoda_Fabia_1.4_TDI_PD_Classic   \n",
       "...                     ...                                           ...   \n",
       "371523  2016-03-14 17:48:27                    Suche_t4___vito_ab_6_sitze   \n",
       "371524  2016-03-05 19:56:21         Smart_smart_leistungssteigerung_100ps   \n",
       "371525  2016-03-19 18:57:12            Volkswagen_Multivan_T4_TDI_7DC_UY2   \n",
       "371526  2016-03-20 19:41:08                        VW_Golf_Kombi_1_9l_TDI   \n",
       "371527  2016-03-07 19:39:19  BMW_M135i_vollausgestattet_NP_52.720____Euro   \n",
       "\n",
       "        seller offerType  price   abtest vehicleType  yearOfRegistration  \\\n",
       "0       privat   Angebot    480     test         NaN                1993   \n",
       "1       privat   Angebot  18300     test       coupe                2011   \n",
       "2       privat   Angebot   9800     test         suv                2004   \n",
       "3       privat   Angebot   1500     test  kleinwagen                2001   \n",
       "4       privat   Angebot   3600     test  kleinwagen                2008   \n",
       "...        ...       ...    ...      ...         ...                 ...   \n",
       "371523  privat   Angebot   2200     test         NaN                2005   \n",
       "371524  privat   Angebot   1199     test      cabrio                2000   \n",
       "371525  privat   Angebot   9200     test         bus                1996   \n",
       "371526  privat   Angebot   3400     test       kombi                2002   \n",
       "371527  privat   Angebot  28990  control   limousine                2013   \n",
       "\n",
       "          gearbox  powerPS        model  kilometer  monthOfRegistration  \\\n",
       "0         manuell        0         golf     150000                    0   \n",
       "1         manuell      190          NaN     125000                    5   \n",
       "2       automatik      163        grand     125000                    8   \n",
       "3         manuell       75         golf     150000                    6   \n",
       "4         manuell       69        fabia      90000                    7   \n",
       "...           ...      ...          ...        ...                  ...   \n",
       "371523        NaN        0          NaN      20000                    1   \n",
       "371524  automatik      101       fortwo     125000                    3   \n",
       "371525    manuell      102  transporter     150000                    3   \n",
       "371526    manuell      100         golf     150000                    6   \n",
       "371527    manuell      320      m_reihe      50000                    8   \n",
       "\n",
       "       fuelType           brand notRepairedDamage          dateCreated  \\\n",
       "0        benzin      volkswagen               NaN  2016-03-24 00:00:00   \n",
       "1        diesel            audi                ja  2016-03-24 00:00:00   \n",
       "2        diesel            jeep               NaN  2016-03-14 00:00:00   \n",
       "3        benzin      volkswagen              nein  2016-03-17 00:00:00   \n",
       "4        diesel           skoda              nein  2016-03-31 00:00:00   \n",
       "...         ...             ...               ...                  ...   \n",
       "371523      NaN  sonstige_autos               NaN  2016-03-14 00:00:00   \n",
       "371524   benzin           smart              nein  2016-03-05 00:00:00   \n",
       "371525   diesel      volkswagen              nein  2016-03-19 00:00:00   \n",
       "371526   diesel      volkswagen               NaN  2016-03-20 00:00:00   \n",
       "371527   benzin             bmw              nein  2016-03-07 00:00:00   \n",
       "\n",
       "        nrOfPictures  postalCode             lastSeen  \n",
       "0                  0       70435  2016-04-07 03:16:57  \n",
       "1                  0       66954  2016-04-07 01:46:50  \n",
       "2                  0       90480  2016-04-05 12:47:46  \n",
       "3                  0       91074  2016-03-17 17:40:17  \n",
       "4                  0       60437  2016-04-06 10:17:21  \n",
       "...              ...         ...                  ...  \n",
       "371523             0       39576  2016-04-06 00:46:52  \n",
       "371524             0       26135  2016-03-11 18:17:12  \n",
       "371525             0       87439  2016-04-07 07:15:26  \n",
       "371526             0       40764  2016-03-24 12:45:21  \n",
       "371527             0       73326  2016-03-22 03:17:10  \n",
       "\n",
       "[371528 rows x 20 columns]"
      ]
     },
     "execution_count": 2,
     "metadata": {},
     "output_type": "execute_result"
    }
   ],
   "source": [
    "dataset=pd.read_csv('autos.csv',encoding='ISO-8859–1')\n",
    "dataset"
   ]
  },
  {
   "cell_type": "code",
   "execution_count": 3,
   "metadata": {},
   "outputs": [
    {
     "data": {
      "text/html": [
       "<div>\n",
       "<style scoped>\n",
       "    .dataframe tbody tr th:only-of-type {\n",
       "        vertical-align: middle;\n",
       "    }\n",
       "\n",
       "    .dataframe tbody tr th {\n",
       "        vertical-align: top;\n",
       "    }\n",
       "\n",
       "    .dataframe thead th {\n",
       "        text-align: right;\n",
       "    }\n",
       "</style>\n",
       "<table border=\"1\" class=\"dataframe\">\n",
       "  <thead>\n",
       "    <tr style=\"text-align: right;\">\n",
       "      <th></th>\n",
       "      <th>price</th>\n",
       "      <th>yearOfRegistration</th>\n",
       "      <th>powerPS</th>\n",
       "      <th>kilometer</th>\n",
       "      <th>monthOfRegistration</th>\n",
       "      <th>nrOfPictures</th>\n",
       "      <th>postalCode</th>\n",
       "    </tr>\n",
       "  </thead>\n",
       "  <tbody>\n",
       "    <tr>\n",
       "      <th>price</th>\n",
       "      <td>1.000000</td>\n",
       "      <td>-0.000182</td>\n",
       "      <td>0.006850</td>\n",
       "      <td>-0.000635</td>\n",
       "      <td>-0.002826</td>\n",
       "      <td>NaN</td>\n",
       "      <td>-0.003164</td>\n",
       "    </tr>\n",
       "    <tr>\n",
       "      <th>yearOfRegistration</th>\n",
       "      <td>-0.000182</td>\n",
       "      <td>1.000000</td>\n",
       "      <td>0.000351</td>\n",
       "      <td>-0.055319</td>\n",
       "      <td>-0.011607</td>\n",
       "      <td>NaN</td>\n",
       "      <td>-0.001652</td>\n",
       "    </tr>\n",
       "    <tr>\n",
       "      <th>powerPS</th>\n",
       "      <td>0.006850</td>\n",
       "      <td>0.000351</td>\n",
       "      <td>1.000000</td>\n",
       "      <td>-0.010738</td>\n",
       "      <td>0.044358</td>\n",
       "      <td>NaN</td>\n",
       "      <td>0.027113</td>\n",
       "    </tr>\n",
       "    <tr>\n",
       "      <th>kilometer</th>\n",
       "      <td>-0.000635</td>\n",
       "      <td>-0.055319</td>\n",
       "      <td>-0.010738</td>\n",
       "      <td>1.000000</td>\n",
       "      <td>0.001838</td>\n",
       "      <td>NaN</td>\n",
       "      <td>-0.026694</td>\n",
       "    </tr>\n",
       "    <tr>\n",
       "      <th>monthOfRegistration</th>\n",
       "      <td>-0.002826</td>\n",
       "      <td>-0.011607</td>\n",
       "      <td>0.044358</td>\n",
       "      <td>0.001838</td>\n",
       "      <td>1.000000</td>\n",
       "      <td>NaN</td>\n",
       "      <td>0.014963</td>\n",
       "    </tr>\n",
       "    <tr>\n",
       "      <th>nrOfPictures</th>\n",
       "      <td>NaN</td>\n",
       "      <td>NaN</td>\n",
       "      <td>NaN</td>\n",
       "      <td>NaN</td>\n",
       "      <td>NaN</td>\n",
       "      <td>NaN</td>\n",
       "      <td>NaN</td>\n",
       "    </tr>\n",
       "    <tr>\n",
       "      <th>postalCode</th>\n",
       "      <td>-0.003164</td>\n",
       "      <td>-0.001652</td>\n",
       "      <td>0.027113</td>\n",
       "      <td>-0.026694</td>\n",
       "      <td>0.014963</td>\n",
       "      <td>NaN</td>\n",
       "      <td>1.000000</td>\n",
       "    </tr>\n",
       "  </tbody>\n",
       "</table>\n",
       "</div>"
      ],
      "text/plain": [
       "                        price  yearOfRegistration   powerPS  kilometer  \\\n",
       "price                1.000000           -0.000182  0.006850  -0.000635   \n",
       "yearOfRegistration  -0.000182            1.000000  0.000351  -0.055319   \n",
       "powerPS              0.006850            0.000351  1.000000  -0.010738   \n",
       "kilometer           -0.000635           -0.055319 -0.010738   1.000000   \n",
       "monthOfRegistration -0.002826           -0.011607  0.044358   0.001838   \n",
       "nrOfPictures              NaN                 NaN       NaN        NaN   \n",
       "postalCode          -0.003164           -0.001652  0.027113  -0.026694   \n",
       "\n",
       "                     monthOfRegistration  nrOfPictures  postalCode  \n",
       "price                          -0.002826           NaN   -0.003164  \n",
       "yearOfRegistration             -0.011607           NaN   -0.001652  \n",
       "powerPS                         0.044358           NaN    0.027113  \n",
       "kilometer                       0.001838           NaN   -0.026694  \n",
       "monthOfRegistration             1.000000           NaN    0.014963  \n",
       "nrOfPictures                         NaN           NaN         NaN  \n",
       "postalCode                      0.014963           NaN    1.000000  "
      ]
     },
     "execution_count": 3,
     "metadata": {},
     "output_type": "execute_result"
    }
   ],
   "source": [
    "dataset.corr()"
   ]
  },
  {
   "cell_type": "code",
   "execution_count": 4,
   "metadata": {},
   "outputs": [
    {
     "data": {
      "text/plain": [
       "<matplotlib.axes._subplots.AxesSubplot at 0x1efc772b808>"
      ]
     },
     "execution_count": 4,
     "metadata": {},
     "output_type": "execute_result"
    },
    {
     "data": {
      "image/png": "[encoded data removed]",
      "text/plain": [
       "<Figure size 432x288 with 2 Axes>"
      ]
     },
     "metadata": {
      "needs_background": "light"
     },
     "output_type": "display_data"
    }
   ],
   "source": [
    "import seaborn as sns\n",
    "sns.heatmap(dataset.corr(),annot=True)"
   ]
  },
  {
   "cell_type": "code",
   "execution_count": 5,
   "metadata": {},
   "outputs": [
    {
     "data": {
      "text/html": [
       "<div>\n",
       "<style scoped>\n",
       "    .dataframe tbody tr th:only-of-type {\n",
       "        vertical-align: middle;\n",
       "    }\n",
       "\n",
       "    .dataframe tbody tr th {\n",
       "        vertical-align: top;\n",
       "    }\n",
       "\n",
       "    .dataframe thead th {\n",
       "        text-align: right;\n",
       "    }\n",
       "</style>\n",
       "<table border=\"1\" class=\"dataframe\">\n",
       "  <thead>\n",
       "    <tr style=\"text-align: right;\">\n",
       "      <th></th>\n",
       "      <th>price</th>\n",
       "      <th>yearOfRegistration</th>\n",
       "      <th>powerPS</th>\n",
       "      <th>kilometer</th>\n",
       "      <th>monthOfRegistration</th>\n",
       "      <th>nrOfPictures</th>\n",
       "      <th>postalCode</th>\n",
       "    </tr>\n",
       "  </thead>\n",
       "  <tbody>\n",
       "    <tr>\n",
       "      <th>count</th>\n",
       "      <td>3.715280e+05</td>\n",
       "      <td>371528.000000</td>\n",
       "      <td>371528.000000</td>\n",
       "      <td>371528.000000</td>\n",
       "      <td>371528.000000</td>\n",
       "      <td>371528.0</td>\n",
       "      <td>371528.00000</td>\n",
       "    </tr>\n",
       "    <tr>\n",
       "      <th>mean</th>\n",
       "      <td>1.729514e+04</td>\n",
       "      <td>2004.577997</td>\n",
       "      <td>115.549477</td>\n",
       "      <td>125618.688228</td>\n",
       "      <td>5.734445</td>\n",
       "      <td>0.0</td>\n",
       "      <td>50820.66764</td>\n",
       "    </tr>\n",
       "    <tr>\n",
       "      <th>std</th>\n",
       "      <td>3.587954e+06</td>\n",
       "      <td>92.866598</td>\n",
       "      <td>192.139578</td>\n",
       "      <td>40112.337051</td>\n",
       "      <td>3.712412</td>\n",
       "      <td>0.0</td>\n",
       "      <td>25799.08247</td>\n",
       "    </tr>\n",
       "    <tr>\n",
       "      <th>min</th>\n",
       "      <td>0.000000e+00</td>\n",
       "      <td>1000.000000</td>\n",
       "      <td>0.000000</td>\n",
       "      <td>5000.000000</td>\n",
       "      <td>0.000000</td>\n",
       "      <td>0.0</td>\n",
       "      <td>1067.00000</td>\n",
       "    </tr>\n",
       "    <tr>\n",
       "      <th>25%</th>\n",
       "      <td>1.150000e+03</td>\n",
       "      <td>1999.000000</td>\n",
       "      <td>70.000000</td>\n",
       "      <td>125000.000000</td>\n",
       "      <td>3.000000</td>\n",
       "      <td>0.0</td>\n",
       "      <td>30459.00000</td>\n",
       "    </tr>\n",
       "    <tr>\n",
       "      <th>50%</th>\n",
       "      <td>2.950000e+03</td>\n",
       "      <td>2003.000000</td>\n",
       "      <td>105.000000</td>\n",
       "      <td>150000.000000</td>\n",
       "      <td>6.000000</td>\n",
       "      <td>0.0</td>\n",
       "      <td>49610.00000</td>\n",
       "    </tr>\n",
       "    <tr>\n",
       "      <th>75%</th>\n",
       "      <td>7.200000e+03</td>\n",
       "      <td>2008.000000</td>\n",
       "      <td>150.000000</td>\n",
       "      <td>150000.000000</td>\n",
       "      <td>9.000000</td>\n",
       "      <td>0.0</td>\n",
       "      <td>71546.00000</td>\n",
       "    </tr>\n",
       "    <tr>\n",
       "      <th>max</th>\n",
       "      <td>2.147484e+09</td>\n",
       "      <td>9999.000000</td>\n",
       "      <td>20000.000000</td>\n",
       "      <td>150000.000000</td>\n",
       "      <td>12.000000</td>\n",
       "      <td>0.0</td>\n",
       "      <td>99998.00000</td>\n",
       "    </tr>\n",
       "  </tbody>\n",
       "</table>\n",
       "</div>"
      ],
      "text/plain": [
       "              price  yearOfRegistration        powerPS      kilometer  \\\n",
       "count  3.715280e+05       371528.000000  371528.000000  371528.000000   \n",
       "mean   1.729514e+04         2004.577997     115.549477  125618.688228   \n",
       "std    3.587954e+06           92.866598     192.139578   40112.337051   \n",
       "min    0.000000e+00         1000.000000       0.000000    5000.000000   \n",
       "25%    1.150000e+03         1999.000000      70.000000  125000.000000   \n",
       "50%    2.950000e+03         2003.000000     105.000000  150000.000000   \n",
       "75%    7.200000e+03         2008.000000     150.000000  150000.000000   \n",
       "max    2.147484e+09         9999.000000   20000.000000  150000.000000   \n",
       "\n",
       "       monthOfRegistration  nrOfPictures    postalCode  \n",
       "count        371528.000000      371528.0  371528.00000  \n",
       "mean              5.734445           0.0   50820.66764  \n",
       "std               3.712412           0.0   25799.08247  \n",
       "min               0.000000           0.0    1067.00000  \n",
       "25%               3.000000           0.0   30459.00000  \n",
       "50%               6.000000           0.0   49610.00000  \n",
       "75%               9.000000           0.0   71546.00000  \n",
       "max              12.000000           0.0   99998.00000  "
      ]
     },
     "execution_count": 5,
     "metadata": {},
     "output_type": "execute_result"
    }
   ],
   "source": [
    "dataset.describe()"
   ]
  },
  {
   "cell_type": "code",
   "execution_count": 6,
   "metadata": {},
   "outputs": [
    {
     "data": {
      "text/plain": [
       "dateCrawled                0\n",
       "name                       0\n",
       "seller                     0\n",
       "offerType                  0\n",
       "price                      0\n",
       "abtest                     0\n",
       "vehicleType            37869\n",
       "yearOfRegistration         0\n",
       "gearbox                20209\n",
       "powerPS                    0\n",
       "model                  20484\n",
       "kilometer                  0\n",
       "monthOfRegistration        0\n",
       "fuelType               33386\n",
       "brand                      0\n",
       "notRepairedDamage      72060\n",
       "dateCreated                0\n",
       "nrOfPictures               0\n",
       "postalCode                 0\n",
       "lastSeen                   0\n",
       "dtype: int64"
      ]
     },
     "execution_count": 6,
     "metadata": {},
     "output_type": "execute_result"
    }
   ],
   "source": [
    "dataset.isnull().sum()"
   ]
  },
  {
   "cell_type": "code",
   "execution_count": 7,
   "metadata": {},
   "outputs": [
    {
     "data": {
      "text/plain": [
       "privat        371525\n",
       "gewerblich         3\n",
       "Name: seller, dtype: int64"
      ]
     },
     "execution_count": 7,
     "metadata": {},
     "output_type": "execute_result"
    }
   ],
   "source": [
    "dataset[\"seller\"].value_counts()"
   ]
  },
  {
   "cell_type": "code",
   "execution_count": 8,
   "metadata": {},
   "outputs": [
    {
     "data": {
      "text/html": [
       "<div>\n",
       "<style scoped>\n",
       "    .dataframe tbody tr th:only-of-type {\n",
       "        vertical-align: middle;\n",
       "    }\n",
       "\n",
       "    .dataframe tbody tr th {\n",
       "        vertical-align: top;\n",
       "    }\n",
       "\n",
       "    .dataframe thead th {\n",
       "        text-align: right;\n",
       "    }\n",
       "</style>\n",
       "<table border=\"1\" class=\"dataframe\">\n",
       "  <thead>\n",
       "    <tr style=\"text-align: right;\">\n",
       "      <th></th>\n",
       "      <th>price</th>\n",
       "      <th>abtest</th>\n",
       "      <th>vehicleType</th>\n",
       "      <th>yearOfRegistration</th>\n",
       "      <th>gearbox</th>\n",
       "      <th>powerPS</th>\n",
       "      <th>model</th>\n",
       "      <th>kilometer</th>\n",
       "      <th>monthOfRegistration</th>\n",
       "      <th>fuelType</th>\n",
       "      <th>brand</th>\n",
       "      <th>notRepairedDamage</th>\n",
       "    </tr>\n",
       "  </thead>\n",
       "  <tbody>\n",
       "    <tr>\n",
       "      <th>0</th>\n",
       "      <td>480</td>\n",
       "      <td>test</td>\n",
       "      <td>NaN</td>\n",
       "      <td>1993</td>\n",
       "      <td>manuell</td>\n",
       "      <td>0</td>\n",
       "      <td>golf</td>\n",
       "      <td>150000</td>\n",
       "      <td>0</td>\n",
       "      <td>benzin</td>\n",
       "      <td>volkswagen</td>\n",
       "      <td>NaN</td>\n",
       "    </tr>\n",
       "    <tr>\n",
       "      <th>1</th>\n",
       "      <td>18300</td>\n",
       "      <td>test</td>\n",
       "      <td>coupe</td>\n",
       "      <td>2011</td>\n",
       "      <td>manuell</td>\n",
       "      <td>190</td>\n",
       "      <td>NaN</td>\n",
       "      <td>125000</td>\n",
       "      <td>5</td>\n",
       "      <td>diesel</td>\n",
       "      <td>audi</td>\n",
       "      <td>ja</td>\n",
       "    </tr>\n",
       "    <tr>\n",
       "      <th>2</th>\n",
       "      <td>9800</td>\n",
       "      <td>test</td>\n",
       "      <td>suv</td>\n",
       "      <td>2004</td>\n",
       "      <td>automatik</td>\n",
       "      <td>163</td>\n",
       "      <td>grand</td>\n",
       "      <td>125000</td>\n",
       "      <td>8</td>\n",
       "      <td>diesel</td>\n",
       "      <td>jeep</td>\n",
       "      <td>NaN</td>\n",
       "    </tr>\n",
       "    <tr>\n",
       "      <th>3</th>\n",
       "      <td>1500</td>\n",
       "      <td>test</td>\n",
       "      <td>kleinwagen</td>\n",
       "      <td>2001</td>\n",
       "      <td>manuell</td>\n",
       "      <td>75</td>\n",
       "      <td>golf</td>\n",
       "      <td>150000</td>\n",
       "      <td>6</td>\n",
       "      <td>benzin</td>\n",
       "      <td>volkswagen</td>\n",
       "      <td>nein</td>\n",
       "    </tr>\n",
       "    <tr>\n",
       "      <th>4</th>\n",
       "      <td>3600</td>\n",
       "      <td>test</td>\n",
       "      <td>kleinwagen</td>\n",
       "      <td>2008</td>\n",
       "      <td>manuell</td>\n",
       "      <td>69</td>\n",
       "      <td>fabia</td>\n",
       "      <td>90000</td>\n",
       "      <td>7</td>\n",
       "      <td>diesel</td>\n",
       "      <td>skoda</td>\n",
       "      <td>nein</td>\n",
       "    </tr>\n",
       "    <tr>\n",
       "      <th>...</th>\n",
       "      <td>...</td>\n",
       "      <td>...</td>\n",
       "      <td>...</td>\n",
       "      <td>...</td>\n",
       "      <td>...</td>\n",
       "      <td>...</td>\n",
       "      <td>...</td>\n",
       "      <td>...</td>\n",
       "      <td>...</td>\n",
       "      <td>...</td>\n",
       "      <td>...</td>\n",
       "      <td>...</td>\n",
       "    </tr>\n",
       "    <tr>\n",
       "      <th>371523</th>\n",
       "      <td>2200</td>\n",
       "      <td>test</td>\n",
       "      <td>NaN</td>\n",
       "      <td>2005</td>\n",
       "      <td>NaN</td>\n",
       "      <td>0</td>\n",
       "      <td>NaN</td>\n",
       "      <td>20000</td>\n",
       "      <td>1</td>\n",
       "      <td>NaN</td>\n",
       "      <td>sonstige_autos</td>\n",
       "      <td>NaN</td>\n",
       "    </tr>\n",
       "    <tr>\n",
       "      <th>371524</th>\n",
       "      <td>1199</td>\n",
       "      <td>test</td>\n",
       "      <td>cabrio</td>\n",
       "      <td>2000</td>\n",
       "      <td>automatik</td>\n",
       "      <td>101</td>\n",
       "      <td>fortwo</td>\n",
       "      <td>125000</td>\n",
       "      <td>3</td>\n",
       "      <td>benzin</td>\n",
       "      <td>smart</td>\n",
       "      <td>nein</td>\n",
       "    </tr>\n",
       "    <tr>\n",
       "      <th>371525</th>\n",
       "      <td>9200</td>\n",
       "      <td>test</td>\n",
       "      <td>bus</td>\n",
       "      <td>1996</td>\n",
       "      <td>manuell</td>\n",
       "      <td>102</td>\n",
       "      <td>transporter</td>\n",
       "      <td>150000</td>\n",
       "      <td>3</td>\n",
       "      <td>diesel</td>\n",
       "      <td>volkswagen</td>\n",
       "      <td>nein</td>\n",
       "    </tr>\n",
       "    <tr>\n",
       "      <th>371526</th>\n",
       "      <td>3400</td>\n",
       "      <td>test</td>\n",
       "      <td>kombi</td>\n",
       "      <td>2002</td>\n",
       "      <td>manuell</td>\n",
       "      <td>100</td>\n",
       "      <td>golf</td>\n",
       "      <td>150000</td>\n",
       "      <td>6</td>\n",
       "      <td>diesel</td>\n",
       "      <td>volkswagen</td>\n",
       "      <td>NaN</td>\n",
       "    </tr>\n",
       "    <tr>\n",
       "      <th>371527</th>\n",
       "      <td>28990</td>\n",
       "      <td>control</td>\n",
       "      <td>limousine</td>\n",
       "      <td>2013</td>\n",
       "      <td>manuell</td>\n",
       "      <td>320</td>\n",
       "      <td>m_reihe</td>\n",
       "      <td>50000</td>\n",
       "      <td>8</td>\n",
       "      <td>benzin</td>\n",
       "      <td>bmw</td>\n",
       "      <td>nein</td>\n",
       "    </tr>\n",
       "  </tbody>\n",
       "</table>\n",
       "<p>371528 rows × 12 columns</p>\n",
       "</div>"
      ],
      "text/plain": [
       "        price   abtest vehicleType  yearOfRegistration    gearbox  powerPS  \\\n",
       "0         480     test         NaN                1993    manuell        0   \n",
       "1       18300     test       coupe                2011    manuell      190   \n",
       "2        9800     test         suv                2004  automatik      163   \n",
       "3        1500     test  kleinwagen                2001    manuell       75   \n",
       "4        3600     test  kleinwagen                2008    manuell       69   \n",
       "...       ...      ...         ...                 ...        ...      ...   \n",
       "371523   2200     test         NaN                2005        NaN        0   \n",
       "371524   1199     test      cabrio                2000  automatik      101   \n",
       "371525   9200     test         bus                1996    manuell      102   \n",
       "371526   3400     test       kombi                2002    manuell      100   \n",
       "371527  28990  control   limousine                2013    manuell      320   \n",
       "\n",
       "              model  kilometer  monthOfRegistration fuelType           brand  \\\n",
       "0              golf     150000                    0   benzin      volkswagen   \n",
       "1               NaN     125000                    5   diesel            audi   \n",
       "2             grand     125000                    8   diesel            jeep   \n",
       "3              golf     150000                    6   benzin      volkswagen   \n",
       "4             fabia      90000                    7   diesel           skoda   \n",
       "...             ...        ...                  ...      ...             ...   \n",
       "371523          NaN      20000                    1      NaN  sonstige_autos   \n",
       "371524       fortwo     125000                    3   benzin           smart   \n",
       "371525  transporter     150000                    3   diesel      volkswagen   \n",
       "371526         golf     150000                    6   diesel      volkswagen   \n",
       "371527      m_reihe      50000                    8   benzin             bmw   \n",
       "\n",
       "       notRepairedDamage  \n",
       "0                    NaN  \n",
       "1                     ja  \n",
       "2                    NaN  \n",
       "3                   nein  \n",
       "4                   nein  \n",
       "...                  ...  \n",
       "371523               NaN  \n",
       "371524              nein  \n",
       "371525              nein  \n",
       "371526               NaN  \n",
       "371527              nein  \n",
       "\n",
       "[371528 rows x 12 columns]"
      ]
     },
     "execution_count": 8,
     "metadata": {},
     "output_type": "execute_result"
    }
   ],
   "source": [
    "dataset.drop(['seller','nrOfPictures','offerType','name','dateCrawled','dateCreated','lastSeen','postalCode'],axis=1,inplace=True)\n",
    "dataset"
   ]
  },
  {
   "cell_type": "markdown",
   "metadata": {},
   "source": [
    "# handling missing data"
   ]
  },
  {
   "cell_type": "code",
   "execution_count": 9,
   "metadata": {},
   "outputs": [
    {
     "data": {
      "text/plain": [
       "price                      0\n",
       "abtest                     0\n",
       "vehicleType            37869\n",
       "yearOfRegistration         0\n",
       "gearbox                20209\n",
       "powerPS                    0\n",
       "model                  20484\n",
       "kilometer                  0\n",
       "monthOfRegistration        0\n",
       "fuelType               33386\n",
       "brand                      0\n",
       "notRepairedDamage      72060\n",
       "dtype: int64"
      ]
     },
     "execution_count": 9,
     "metadata": {},
     "output_type": "execute_result"
    }
   ],
   "source": [
    "dataset.isnull().sum()"
   ]
  },
  {
   "cell_type": "code",
   "execution_count": 10,
   "metadata": {},
   "outputs": [
    {
     "data": {
      "text/plain": [
       "'nein'"
      ]
     },
     "execution_count": 10,
     "metadata": {},
     "output_type": "execute_result"
    }
   ],
   "source": [
    "a=dataset['notRepairedDamage'].mode().iloc[0]\n",
    "a"
   ]
  },
  {
   "cell_type": "code",
   "execution_count": 11,
   "metadata": {},
   "outputs": [
    {
     "data": {
      "text/plain": [
       "manuell      274214\n",
       "automatik     77105\n",
       "Name: gearbox, dtype: int64"
      ]
     },
     "execution_count": 11,
     "metadata": {},
     "output_type": "execute_result"
    }
   ],
   "source": [
    "dataset[\"gearbox\"].value_counts()"
   ]
  },
  {
   "cell_type": "code",
   "execution_count": 12,
   "metadata": {},
   "outputs": [
    {
     "data": {
      "text/plain": [
       "brand       gearbox  \n",
       "alfa_romeo  manuell       2064\n",
       "            automatik      146\n",
       "audi        manuell      20841\n",
       "            automatik    10698\n",
       "bmw         manuell      25323\n",
       "                         ...  \n",
       "trabant     automatik        2\n",
       "volkswagen  manuell      64655\n",
       "            automatik    10264\n",
       "volvo       manuell       2217\n",
       "            automatik      991\n",
       "Name: gearbox, Length: 80, dtype: int64"
      ]
     },
     "execution_count": 12,
     "metadata": {},
     "output_type": "execute_result"
    }
   ],
   "source": [
    "dataset.groupby(\"brand\")[\"gearbox\"].value_counts()"
   ]
  },
  {
   "cell_type": "code",
   "execution_count": 13,
   "metadata": {},
   "outputs": [],
   "source": [
    "gearbox = dataset[\"gearbox\"].unique()\n",
    "brand = dataset[\"brand\"].unique()\n",
    "d = {}\n",
    "\n",
    "for i in brand :\n",
    "    m = 0\n",
    "    for j in gearbox :\n",
    "        if dataset[(dataset.gearbox == j) & (dataset.brand == i)].shape[0] > m :\n",
    "            m = dataset[(dataset.gearbox == j) & (dataset.brand == i)].shape[0]\n",
    "            d[i] = j"
   ]
  },
  {
   "cell_type": "code",
   "execution_count": 14,
   "metadata": {},
   "outputs": [],
   "source": [
    "for i in brand :\n",
    "    dataset.loc[(dataset.brand == i) & (dataset.gearbox.isnull()) ,\"gearbox\" ] = d[i]"
   ]
  },
  {
   "cell_type": "code",
   "execution_count": 15,
   "metadata": {},
   "outputs": [
    {
     "data": {
      "text/plain": [
       "False"
      ]
     },
     "execution_count": 15,
     "metadata": {},
     "output_type": "execute_result"
    }
   ],
   "source": [
    "dataset[\"gearbox\"].isnull().any()"
   ]
  },
  {
   "cell_type": "code",
   "execution_count": 16,
   "metadata": {},
   "outputs": [],
   "source": [
    "dataset['notRepairedDamage'].fillna((dataset['notRepairedDamage'].mode().iloc[0]),inplace=True)"
   ]
  },
  {
   "cell_type": "code",
   "execution_count": 17,
   "metadata": {},
   "outputs": [
    {
     "data": {
      "text/plain": [
       "False"
      ]
     },
     "execution_count": 17,
     "metadata": {},
     "output_type": "execute_result"
    }
   ],
   "source": [
    "dataset[\"notRepairedDamage\"].isnull().any()"
   ]
  },
  {
   "cell_type": "code",
   "execution_count": 18,
   "metadata": {},
   "outputs": [
    {
     "data": {
      "text/plain": [
       "benzin     223857\n",
       "diesel     107746\n",
       "lpg          5378\n",
       "cng           571\n",
       "hybrid        278\n",
       "andere        208\n",
       "elektro       104\n",
       "Name: fuelType, dtype: int64"
      ]
     },
     "execution_count": 18,
     "metadata": {},
     "output_type": "execute_result"
    }
   ],
   "source": [
    "dataset[\"fuelType\"].value_counts()"
   ]
  },
  {
   "cell_type": "code",
   "execution_count": 19,
   "metadata": {},
   "outputs": [],
   "source": [
    "dataset['fuelType'].fillna((dataset['fuelType'].mode().iloc[0]),inplace=True)"
   ]
  },
  {
   "cell_type": "code",
   "execution_count": 20,
   "metadata": {},
   "outputs": [
    {
     "data": {
      "text/plain": [
       "False"
      ]
     },
     "execution_count": 20,
     "metadata": {},
     "output_type": "execute_result"
    }
   ],
   "source": [
    "dataset[\"fuelType\"].isnull().any()"
   ]
  },
  {
   "cell_type": "code",
   "execution_count": 21,
   "metadata": {},
   "outputs": [
    {
     "data": {
      "text/plain": [
       "limousine     95894\n",
       "kleinwagen    80023\n",
       "kombi         67564\n",
       "bus           30201\n",
       "cabrio        22898\n",
       "coupe         19015\n",
       "suv           14707\n",
       "andere         3357\n",
       "Name: vehicleType, dtype: int64"
      ]
     },
     "execution_count": 21,
     "metadata": {},
     "output_type": "execute_result"
    }
   ],
   "source": [
    "dataset[\"vehicleType\"].value_counts()"
   ]
  },
  {
   "cell_type": "code",
   "execution_count": 22,
   "metadata": {},
   "outputs": [
    {
     "data": {
      "text/plain": [
       "fuelType  vehicleType\n",
       "andere    limousine         51\n",
       "          andere            44\n",
       "          kleinwagen        29\n",
       "          kombi             25\n",
       "          bus               10\n",
       "          suv                9\n",
       "          cabrio             6\n",
       "          coupe              3\n",
       "benzin    kleinwagen     72531\n",
       "          limousine      66300\n",
       "          kombi          31350\n",
       "          cabrio         20769\n",
       "          coupe          15935\n",
       "          bus            10795\n",
       "          suv             5400\n",
       "          andere          1786\n",
       "cng       bus              240\n",
       "          kombi            136\n",
       "          kleinwagen        80\n",
       "          limousine         40\n",
       "          andere            14\n",
       "          suv                4\n",
       "          cabrio             3\n",
       "          coupe              3\n",
       "diesel    kombi          34848\n",
       "          limousine      27648\n",
       "          bus            18622\n",
       "          suv             8665\n",
       "          kleinwagen      6808\n",
       "          coupe           2737\n",
       "          cabrio          1871\n",
       "          andere          1469\n",
       "elektro   kleinwagen        51\n",
       "          limousine         15\n",
       "          andere            12\n",
       "          coupe              7\n",
       "          cabrio             6\n",
       "          kombi              5\n",
       "          suv                3\n",
       "          bus                1\n",
       "hybrid    limousine        151\n",
       "          kleinwagen        38\n",
       "          kombi             27\n",
       "          suv               20\n",
       "          coupe             18\n",
       "          bus                6\n",
       "          andere             2\n",
       "lpg       limousine       1689\n",
       "          kombi           1173\n",
       "          suv              606\n",
       "          bus              527\n",
       "          kleinwagen       486\n",
       "          coupe            312\n",
       "          cabrio           243\n",
       "          andere            30\n",
       "Name: vehicleType, dtype: int64"
      ]
     },
     "execution_count": 22,
     "metadata": {},
     "output_type": "execute_result"
    }
   ],
   "source": [
    "dataset.groupby(\"fuelType\")[\"vehicleType\"].value_counts()"
   ]
  },
  {
   "cell_type": "code",
   "execution_count": 23,
   "metadata": {},
   "outputs": [
    {
     "name": "stdout",
     "output_type": "stream",
     "text": [
      "['benzin' 'diesel' 'lpg' 'andere' 'hybrid' 'cng' 'elektro']\n",
      "[nan 'coupe' 'suv' 'kleinwagen' 'limousine' 'cabrio' 'bus' 'kombi'\n",
      " 'andere']\n"
     ]
    }
   ],
   "source": [
    "vehicleType = dataset[\"vehicleType\"].unique()\n",
    "fuelType = dataset[\"fuelType\"].unique()\n",
    "print(fuelType)\n",
    "print(vehicleType)\n",
    "#remove nan \n",
    "vehicleType = np.delete(vehicleType,0)"
   ]
  },
  {
   "cell_type": "code",
   "execution_count": 24,
   "metadata": {},
   "outputs": [],
   "source": [
    "for i in fuelType :\n",
    "    m = 0\n",
    "    for j in vehicleType :\n",
    "        if dataset[(dataset.vehicleType == j) & (dataset.fuelType == i)].shape[0] > m :\n",
    "            m = dataset[(dataset.vehicleType == j) & (dataset.fuelType == i)].shape[0]\n",
    "            d[i] = j\n",
    "for i in fuelType :\n",
    "    dataset.loc[(dataset.fuelType == i) & (dataset.vehicleType.isnull()) ,\"vehicleType\" ] = d[i]"
   ]
  },
  {
   "cell_type": "code",
   "execution_count": 25,
   "metadata": {},
   "outputs": [
    {
     "data": {
      "text/plain": [
       "False"
      ]
     },
     "execution_count": 25,
     "metadata": {},
     "output_type": "execute_result"
    }
   ],
   "source": [
    "dataset[\"vehicleType\"].isnull().any()"
   ]
  },
  {
   "cell_type": "code",
   "execution_count": 26,
   "metadata": {},
   "outputs": [
    {
     "data": {
      "text/plain": [
       "252"
      ]
     },
     "execution_count": 26,
     "metadata": {},
     "output_type": "execute_result"
    }
   ],
   "source": [
    "len(dataset[\"model\"].unique())"
   ]
  },
  {
   "cell_type": "code",
   "execution_count": 27,
   "metadata": {},
   "outputs": [
    {
     "data": {
      "text/plain": [
       "'golf'"
      ]
     },
     "execution_count": 27,
     "metadata": {},
     "output_type": "execute_result"
    }
   ],
   "source": [
    "#Too much unique values in model type lets find the maximum frequency value\n",
    "a=dataset['model'].mode().iloc[0]\n",
    "a"
   ]
  },
  {
   "cell_type": "code",
   "execution_count": 28,
   "metadata": {},
   "outputs": [],
   "source": [
    "dataset['model'].fillna((dataset['model'].mode().iloc[0]),inplace=True)"
   ]
  },
  {
   "cell_type": "code",
   "execution_count": 29,
   "metadata": {},
   "outputs": [
    {
     "data": {
      "text/plain": [
       "False"
      ]
     },
     "execution_count": 29,
     "metadata": {},
     "output_type": "execute_result"
    }
   ],
   "source": [
    "dataset[\"model\"].isnull().any()"
   ]
  },
  {
   "cell_type": "markdown",
   "metadata": {},
   "source": [
    "# label encoding"
   ]
  },
  {
   "cell_type": "code",
   "execution_count": 30,
   "metadata": {},
   "outputs": [],
   "source": [
    "from sklearn.preprocessing import LabelEncoder"
   ]
  },
  {
   "cell_type": "code",
   "execution_count": 31,
   "metadata": {},
   "outputs": [],
   "source": [
    "data = dataset.copy()\n",
    "data[\"vehicleType\"] =LabelEncoder().fit_transform(data[\"vehicleType\"])\n",
    "data[\"fuelType\"] =LabelEncoder().fit_transform(data[\"fuelType\"])\n",
    "data[\"gearbox\"] =LabelEncoder().fit_transform(data[\"gearbox\"])\n",
    "data[\"notRepairedDamage\"] =LabelEncoder().fit_transform(data[\"notRepairedDamage\"])\n",
    "data[\"brand\"] =LabelEncoder().fit_transform(data[\"brand\"])\n",
    "data[\"model\"] =LabelEncoder().fit_transform(data[\"model\"])\n",
    "data[\"abtest\"] =LabelEncoder().fit_transform(data[\"abtest\"])"
   ]
  },
  {
   "cell_type": "markdown",
   "metadata": {},
   "source": [
    "# outliers removals"
   ]
  },
  {
   "cell_type": "code",
   "execution_count": 32,
   "metadata": {},
   "outputs": [
    {
     "data": {
      "text/plain": [
       "count    371528.000000\n",
       "mean       2004.577997\n",
       "std          92.866598\n",
       "min        1000.000000\n",
       "25%        1999.000000\n",
       "50%        2003.000000\n",
       "75%        2008.000000\n",
       "max        9999.000000\n",
       "Name: yearOfRegistration, dtype: float64"
      ]
     },
     "execution_count": 32,
     "metadata": {},
     "output_type": "execute_result"
    }
   ],
   "source": [
    "data[\"yearOfRegistration\"].describe()"
   ]
  },
  {
   "cell_type": "code",
   "execution_count": 33,
   "metadata": {},
   "outputs": [
    {
     "data": {
      "text/plain": [
       "(4134, 12)"
      ]
     },
     "execution_count": 33,
     "metadata": {},
     "output_type": "execute_result"
    }
   ],
   "source": [
    "#We can see yearOfRegistration goes from 1000 to 9999 but 50% of the values are nearby 1999\n",
    "data[data.yearOfRegistration > 2017].shape"
   ]
  },
  {
   "cell_type": "code",
   "execution_count": 34,
   "metadata": {},
   "outputs": [
    {
     "data": {
      "text/plain": [
       "(289, 12)"
      ]
     },
     "execution_count": 34,
     "metadata": {},
     "output_type": "execute_result"
    }
   ],
   "source": [
    "data[data.yearOfRegistration < 1950].shape"
   ]
  },
  {
   "cell_type": "code",
   "execution_count": 35,
   "metadata": {},
   "outputs": [],
   "source": [
    "#So only 289 registration are there before 1950 and 4000 registration after 2017 , so these are outliers and should be removed for better results\n",
    "data = data[(data.yearOfRegistration < 2017)  & (data.yearOfRegistration > 1950)]"
   ]
  },
  {
   "cell_type": "code",
   "execution_count": 36,
   "metadata": {},
   "outputs": [
    {
     "data": {
      "text/plain": [
       "count    3.565370e+05\n",
       "mean     1.739899e+04\n",
       "std      3.658497e+06\n",
       "min      0.000000e+00\n",
       "25%      1.150000e+03\n",
       "50%      2.999000e+03\n",
       "75%      7.400000e+03\n",
       "max      2.147484e+09\n",
       "Name: price, dtype: float64"
      ]
     },
     "execution_count": 36,
     "metadata": {},
     "output_type": "execute_result"
    }
   ],
   "source": [
    "## now lets look at the price\n",
    "data[\"price\"].describe()"
   ]
  },
  {
   "cell_type": "code",
   "execution_count": 37,
   "metadata": {},
   "outputs": [
    {
     "data": {
      "text/plain": [
       "(12372, 12)"
      ]
     },
     "execution_count": 37,
     "metadata": {},
     "output_type": "execute_result"
    }
   ],
   "source": [
    "#price starts from 0 and goes upto max 2.147484e+09 , but the price 0 is unrealistic\n",
    "data[data.price < 100].shape"
   ]
  },
  {
   "cell_type": "code",
   "execution_count": 38,
   "metadata": {},
   "outputs": [
    {
     "data": {
      "text/plain": [
       "(158, 12)"
      ]
     },
     "execution_count": 38,
     "metadata": {},
     "output_type": "execute_result"
    }
   ],
   "source": [
    "data[data.price > 200000].shape"
   ]
  },
  {
   "cell_type": "code",
   "execution_count": 39,
   "metadata": {},
   "outputs": [],
   "source": [
    "#only 158 values are there above 2 lakh and 12000 enries below 100, lets remove them\n",
    "data = data[(data.price > 100) & (data.price < 200000) ]"
   ]
  },
  {
   "cell_type": "code",
   "execution_count": 40,
   "metadata": {
    "scrolled": true
   },
   "outputs": [
    {
     "data": {
      "text/html": [
       "<div>\n",
       "<style scoped>\n",
       "    .dataframe tbody tr th:only-of-type {\n",
       "        vertical-align: middle;\n",
       "    }\n",
       "\n",
       "    .dataframe tbody tr th {\n",
       "        vertical-align: top;\n",
       "    }\n",
       "\n",
       "    .dataframe thead th {\n",
       "        text-align: right;\n",
       "    }\n",
       "</style>\n",
       "<table border=\"1\" class=\"dataframe\">\n",
       "  <thead>\n",
       "    <tr style=\"text-align: right;\">\n",
       "      <th></th>\n",
       "      <th>price</th>\n",
       "      <th>abtest</th>\n",
       "      <th>vehicleType</th>\n",
       "      <th>yearOfRegistration</th>\n",
       "      <th>gearbox</th>\n",
       "      <th>powerPS</th>\n",
       "      <th>model</th>\n",
       "      <th>kilometer</th>\n",
       "      <th>monthOfRegistration</th>\n",
       "      <th>fuelType</th>\n",
       "      <th>brand</th>\n",
       "      <th>notRepairedDamage</th>\n",
       "    </tr>\n",
       "  </thead>\n",
       "  <tbody>\n",
       "    <tr>\n",
       "      <th>0</th>\n",
       "      <td>480</td>\n",
       "      <td>1</td>\n",
       "      <td>4</td>\n",
       "      <td>1993</td>\n",
       "      <td>1</td>\n",
       "      <td>0</td>\n",
       "      <td>118</td>\n",
       "      <td>150000</td>\n",
       "      <td>0</td>\n",
       "      <td>1</td>\n",
       "      <td>38</td>\n",
       "      <td>1</td>\n",
       "    </tr>\n",
       "    <tr>\n",
       "      <th>1</th>\n",
       "      <td>18300</td>\n",
       "      <td>1</td>\n",
       "      <td>3</td>\n",
       "      <td>2011</td>\n",
       "      <td>1</td>\n",
       "      <td>190</td>\n",
       "      <td>118</td>\n",
       "      <td>125000</td>\n",
       "      <td>5</td>\n",
       "      <td>3</td>\n",
       "      <td>1</td>\n",
       "      <td>0</td>\n",
       "    </tr>\n",
       "    <tr>\n",
       "      <th>2</th>\n",
       "      <td>9800</td>\n",
       "      <td>1</td>\n",
       "      <td>7</td>\n",
       "      <td>2004</td>\n",
       "      <td>0</td>\n",
       "      <td>163</td>\n",
       "      <td>119</td>\n",
       "      <td>125000</td>\n",
       "      <td>8</td>\n",
       "      <td>3</td>\n",
       "      <td>14</td>\n",
       "      <td>1</td>\n",
       "    </tr>\n",
       "    <tr>\n",
       "      <th>3</th>\n",
       "      <td>1500</td>\n",
       "      <td>1</td>\n",
       "      <td>4</td>\n",
       "      <td>2001</td>\n",
       "      <td>1</td>\n",
       "      <td>75</td>\n",
       "      <td>118</td>\n",
       "      <td>150000</td>\n",
       "      <td>6</td>\n",
       "      <td>1</td>\n",
       "      <td>38</td>\n",
       "      <td>1</td>\n",
       "    </tr>\n",
       "    <tr>\n",
       "      <th>4</th>\n",
       "      <td>3600</td>\n",
       "      <td>1</td>\n",
       "      <td>4</td>\n",
       "      <td>2008</td>\n",
       "      <td>1</td>\n",
       "      <td>69</td>\n",
       "      <td>103</td>\n",
       "      <td>90000</td>\n",
       "      <td>7</td>\n",
       "      <td>3</td>\n",
       "      <td>31</td>\n",
       "      <td>1</td>\n",
       "    </tr>\n",
       "    <tr>\n",
       "      <th>...</th>\n",
       "      <td>...</td>\n",
       "      <td>...</td>\n",
       "      <td>...</td>\n",
       "      <td>...</td>\n",
       "      <td>...</td>\n",
       "      <td>...</td>\n",
       "      <td>...</td>\n",
       "      <td>...</td>\n",
       "      <td>...</td>\n",
       "      <td>...</td>\n",
       "      <td>...</td>\n",
       "      <td>...</td>\n",
       "    </tr>\n",
       "    <tr>\n",
       "      <th>371523</th>\n",
       "      <td>2200</td>\n",
       "      <td>1</td>\n",
       "      <td>4</td>\n",
       "      <td>2005</td>\n",
       "      <td>1</td>\n",
       "      <td>0</td>\n",
       "      <td>118</td>\n",
       "      <td>20000</td>\n",
       "      <td>1</td>\n",
       "      <td>1</td>\n",
       "      <td>33</td>\n",
       "      <td>1</td>\n",
       "    </tr>\n",
       "    <tr>\n",
       "      <th>371524</th>\n",
       "      <td>1199</td>\n",
       "      <td>1</td>\n",
       "      <td>2</td>\n",
       "      <td>2000</td>\n",
       "      <td>0</td>\n",
       "      <td>101</td>\n",
       "      <td>108</td>\n",
       "      <td>125000</td>\n",
       "      <td>3</td>\n",
       "      <td>1</td>\n",
       "      <td>32</td>\n",
       "      <td>1</td>\n",
       "    </tr>\n",
       "    <tr>\n",
       "      <th>371525</th>\n",
       "      <td>9200</td>\n",
       "      <td>1</td>\n",
       "      <td>1</td>\n",
       "      <td>1996</td>\n",
       "      <td>1</td>\n",
       "      <td>102</td>\n",
       "      <td>225</td>\n",
       "      <td>150000</td>\n",
       "      <td>3</td>\n",
       "      <td>3</td>\n",
       "      <td>38</td>\n",
       "      <td>1</td>\n",
       "    </tr>\n",
       "    <tr>\n",
       "      <th>371526</th>\n",
       "      <td>3400</td>\n",
       "      <td>1</td>\n",
       "      <td>5</td>\n",
       "      <td>2002</td>\n",
       "      <td>1</td>\n",
       "      <td>100</td>\n",
       "      <td>118</td>\n",
       "      <td>150000</td>\n",
       "      <td>6</td>\n",
       "      <td>3</td>\n",
       "      <td>38</td>\n",
       "      <td>1</td>\n",
       "    </tr>\n",
       "    <tr>\n",
       "      <th>371527</th>\n",
       "      <td>28990</td>\n",
       "      <td>0</td>\n",
       "      <td>6</td>\n",
       "      <td>2013</td>\n",
       "      <td>1</td>\n",
       "      <td>320</td>\n",
       "      <td>148</td>\n",
       "      <td>50000</td>\n",
       "      <td>8</td>\n",
       "      <td>1</td>\n",
       "      <td>2</td>\n",
       "      <td>1</td>\n",
       "    </tr>\n",
       "  </tbody>\n",
       "</table>\n",
       "<p>342990 rows × 12 columns</p>\n",
       "</div>"
      ],
      "text/plain": [
       "        price  abtest  vehicleType  yearOfRegistration  gearbox  powerPS  \\\n",
       "0         480       1            4                1993        1        0   \n",
       "1       18300       1            3                2011        1      190   \n",
       "2        9800       1            7                2004        0      163   \n",
       "3        1500       1            4                2001        1       75   \n",
       "4        3600       1            4                2008        1       69   \n",
       "...       ...     ...          ...                 ...      ...      ...   \n",
       "371523   2200       1            4                2005        1        0   \n",
       "371524   1199       1            2                2000        0      101   \n",
       "371525   9200       1            1                1996        1      102   \n",
       "371526   3400       1            5                2002        1      100   \n",
       "371527  28990       0            6                2013        1      320   \n",
       "\n",
       "        model  kilometer  monthOfRegistration  fuelType  brand  \\\n",
       "0         118     150000                    0         1     38   \n",
       "1         118     125000                    5         3      1   \n",
       "2         119     125000                    8         3     14   \n",
       "3         118     150000                    6         1     38   \n",
       "4         103      90000                    7         3     31   \n",
       "...       ...        ...                  ...       ...    ...   \n",
       "371523    118      20000                    1         1     33   \n",
       "371524    108     125000                    3         1     32   \n",
       "371525    225     150000                    3         3     38   \n",
       "371526    118     150000                    6         3     38   \n",
       "371527    148      50000                    8         1      2   \n",
       "\n",
       "        notRepairedDamage  \n",
       "0                       1  \n",
       "1                       0  \n",
       "2                       1  \n",
       "3                       1  \n",
       "4                       1  \n",
       "...                   ...  \n",
       "371523                  1  \n",
       "371524                  1  \n",
       "371525                  1  \n",
       "371526                  1  \n",
       "371527                  1  \n",
       "\n",
       "[342990 rows x 12 columns]"
      ]
     },
     "execution_count": 40,
     "metadata": {},
     "output_type": "execute_result"
    }
   ],
   "source": [
    "data"
   ]
  },
  {
   "cell_type": "code",
   "execution_count": 41,
   "metadata": {},
   "outputs": [
    {
     "data": {
      "text/plain": [
       "Text(0, 0.5, 'price')"
      ]
     },
     "execution_count": 41,
     "metadata": {},
     "output_type": "execute_result"
    },
    {
     "data": {
      "image/png": "[encoded data removed]",
      "text/plain": [
       "<Figure size 432x288 with 1 Axes>"
      ]
     },
     "metadata": {
      "needs_background": "light"
     },
     "output_type": "display_data"
    }
   ],
   "source": [
    "plt.scatter(data['yearOfRegistration'],data['price'])\n",
    "plt.title(\"Numerical Feature:price v/s yearOfRegistration\")\n",
    "plt.xlabel(\"yearOfRegistration\")\n",
    "plt.ylabel(\"price\")"
   ]
  },
  {
   "cell_type": "code",
   "execution_count": 42,
   "metadata": {},
   "outputs": [
    {
     "data": {
      "text/plain": [
       "Text(0, 0.5, 'price')"
      ]
     },
     "execution_count": 42,
     "metadata": {},
     "output_type": "execute_result"
    },
    {
     "data": {
      "image/png": "[encoded data removed]",
      "text/plain": [
       "<Figure size 432x288 with 1 Axes>"
      ]
     },
     "metadata": {
      "needs_background": "light"
     },
     "output_type": "display_data"
    }
   ],
   "source": [
    "plt.scatter(data['powerPS'],data['price'],color='r')\n",
    "plt.title(\"Numerical Feature:price v/s powerPS\")\n",
    "plt.xlabel(\"powerPS\")\n",
    "plt.ylabel(\"price\")"
   ]
  },
  {
   "cell_type": "code",
   "execution_count": 43,
   "metadata": {
    "scrolled": true
   },
   "outputs": [
    {
     "data": {
      "text/plain": [
       "Text(0, 0.5, 'price')"
      ]
     },
     "execution_count": 43,
     "metadata": {},
     "output_type": "execute_result"
    },
    {
     "data": {
      "image/png": "[encoded data removed]",
      "text/plain": [
       "<Figure size 432x288 with 1 Axes>"
      ]
     },
     "metadata": {
      "needs_background": "light"
     },
     "output_type": "display_data"
    }
   ],
   "source": [
    "plt.scatter(data['kilometer'],data['price'],color='g')\n",
    "plt.title(\"Numerical Feature:price v/s kilometer\")\n",
    "plt.xlabel(\"kilometer\")\n",
    "plt.ylabel(\"price\")"
   ]
  },
  {
   "cell_type": "markdown",
   "metadata": {},
   "source": [
    " # splitting into training & testing data"
   ]
  },
  {
   "cell_type": "code",
   "execution_count": 44,
   "metadata": {},
   "outputs": [],
   "source": [
    "y  = data.iloc[:,0:1].values\n",
    "x =  data.iloc[:,1:12].values"
   ]
  },
  {
   "cell_type": "code",
   "execution_count": 45,
   "metadata": {},
   "outputs": [
    {
     "data": {
      "text/plain": [
       "array([[  480],\n",
       "       [18300],\n",
       "       [ 9800],\n",
       "       ...,\n",
       "       [ 9200],\n",
       "       [ 3400],\n",
       "       [28990]], dtype=int64)"
      ]
     },
     "execution_count": 45,
     "metadata": {},
     "output_type": "execute_result"
    }
   ],
   "source": [
    "y"
   ]
  },
  {
   "cell_type": "code",
   "execution_count": 46,
   "metadata": {},
   "outputs": [
    {
     "data": {
      "text/plain": [
       "array([[   1,    4, 1993, ...,    1,   38,    1],\n",
       "       [   1,    3, 2011, ...,    3,    1,    0],\n",
       "       [   1,    7, 2004, ...,    3,   14,    1],\n",
       "       ...,\n",
       "       [   1,    1, 1996, ...,    3,   38,    1],\n",
       "       [   1,    5, 2002, ...,    3,   38,    1],\n",
       "       [   0,    6, 2013, ...,    1,    2,    1]], dtype=int64)"
      ]
     },
     "execution_count": 46,
     "metadata": {},
     "output_type": "execute_result"
    }
   ],
   "source": [
    "x"
   ]
  },
  {
   "cell_type": "code",
   "execution_count": 47,
   "metadata": {},
   "outputs": [],
   "source": [
    "from sklearn.model_selection import train_test_split\n",
    "x_train,x_test,y_train,y_test=train_test_split(x,y,test_size=0.2,random_state=0)"
   ]
  },
  {
   "cell_type": "code",
   "execution_count": 48,
   "metadata": {},
   "outputs": [],
   "source": [
    "from sklearn.preprocessing import StandardScaler\n",
    "sc = StandardScaler()\n",
    "x_train = sc.fit_transform(x_train)\n",
    "x_test = sc.transform(x_test)"
   ]
  },
  {
   "cell_type": "code",
   "execution_count": 49,
   "metadata": {},
   "outputs": [
    {
     "data": {
      "text/plain": [
       "array([[ 0.96470312,  0.36787879,  0.28974573, ..., -0.64297992,\n",
       "         0.25582456,  0.32171481],\n",
       "       [-1.03658834, -0.23462568,  0.57496411, ..., -0.64297992,\n",
       "         0.85396071,  0.32171481],\n",
       "       [-1.03658834,  0.36787879,  1.28801007, ...,  1.23963745,\n",
       "         1.30256283,  0.32171481],\n",
       "       ...,\n",
       "       [ 0.96470312, -0.23462568,  0.8601825 , ..., -0.64297992,\n",
       "         1.30256283,  0.32171481],\n",
       "       [-1.03658834,  0.97038326, -0.8511278 , ...,  1.23963745,\n",
       "        -0.04324352,  0.32171481],\n",
       "       [ 0.96470312, -0.23462568,  1.85844684, ..., -0.64297992,\n",
       "         0.25582456, -3.10834308]])"
      ]
     },
     "execution_count": 49,
     "metadata": {},
     "output_type": "execute_result"
    }
   ],
   "source": [
    "x_train"
   ]
  },
  {
   "cell_type": "code",
   "execution_count": 50,
   "metadata": {},
   "outputs": [
    {
     "data": {
      "text/plain": [
       "array([[ 4300],\n",
       "       [ 4200],\n",
       "       [23200],\n",
       "       ...,\n",
       "       [ 8499],\n",
       "       [12500],\n",
       "       [ 1000]], dtype=int64)"
      ]
     },
     "execution_count": 50,
     "metadata": {},
     "output_type": "execute_result"
    }
   ],
   "source": [
    "y_train"
   ]
  },
  {
   "cell_type": "code",
   "execution_count": 51,
   "metadata": {},
   "outputs": [
    {
     "data": {
      "text/plain": [
       "['scalar8.save']"
      ]
     },
     "execution_count": 51,
     "metadata": {},
     "output_type": "execute_result"
    }
   ],
   "source": [
    "from joblib import dump\n",
    "dump(sc,\"scalar8.save\")"
   ]
  },
  {
   "cell_type": "code",
   "execution_count": 52,
   "metadata": {},
   "outputs": [],
   "source": [
    "from sklearn.linear_model import LinearRegression \n",
    "from sklearn.tree import DecisionTreeRegressor\n",
    "from sklearn.ensemble import RandomForestRegressor"
   ]
  },
  {
   "cell_type": "code",
   "execution_count": 53,
   "metadata": {},
   "outputs": [
    {
     "name": "stderr",
     "output_type": "stream",
     "text": [
      "C:\\Users\\Paleti Krishnasai\\anaconda3\\lib\\site-packages\\ipykernel_launcher.py:3: DataConversionWarning: A column-vector y was passed when a 1d array was expected. Please change the shape of y to (n_samples,), for example using ravel().\n",
      "  This is separate from the ipykernel package so we can avoid doing imports until\n"
     ]
    },
    {
     "data": {
      "text/plain": [
       "array([9631.525     ,  939.71333333, 8385.57333333, ..., 1070.43      ,\n",
       "       1090.30003501, 3982.10883333])"
      ]
     },
     "execution_count": 53,
     "metadata": {},
     "output_type": "execute_result"
    }
   ],
   "source": [
    "# classifier\n",
    "rfr = RandomForestRegressor()\n",
    "rfr.fit(x_train, y_train)\n",
    "y_pred=rfr.predict(x_test)\n",
    "y_pred"
   ]
  },
  {
   "cell_type": "code",
   "execution_count": 54,
   "metadata": {},
   "outputs": [],
   "source": [
    "import pickle\n",
    "pickle.dump(rfr,open('d.pkl','wb'))"
   ]
  },
  {
   "cell_type": "code",
   "execution_count": null,
   "metadata": {},
   "outputs": [],
   "source": [
    "from sklearn.metrics import r2_score\n",
    "r2_score(y_test,y_pred) "
   ]
  },
  {
   "cell_type": "code",
   "execution_count": null,
   "metadata": {},
   "outputs": [],
   "source": [
    "from sklearn.metrics import mean_squared_error\n",
    "mse=mean_squared_error(y_test,y_pred)\n",
    "mse"
   ]
  },
  {
   "cell_type": "code",
   "execution_count": null,
   "metadata": {},
   "outputs": [],
   "source": [
    "from math import sqrt\n",
    "rms=sqrt(mse)\n",
    "rms"
   ]
  },
  {
   "cell_type": "code",
   "execution_count": null,
   "metadata": {},
   "outputs": [],
   "source": [
    "from sklearn.metrics import mean_absolute_error\n",
    "mae=mean_absolute_error(y_test,y_pred)\n",
    "mae"
   ]
  },
  {
   "cell_type": "code",
   "execution_count": null,
   "metadata": {},
   "outputs": [],
   "source": []
  }
 ],
 "metadata": {
  "kernelspec": {
   "display_name": "Python 3",
   "language": "python",
   "name": "python3"
  },
  "language_info": {
   "codemirror_mode": {
    "name": "ipython",
    "version": 3
   },
   "file_extension": ".py",
   "mimetype": "text/x-python",
   "name": "python",
   "nbconvert_exporter": "python",
   "pygments_lexer": "ipython3",
   "version": "3.7.6"
  }
 },
 "nbformat": 4,
 "nbformat_minor": 4
}
